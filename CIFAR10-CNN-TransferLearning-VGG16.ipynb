{
 "cells": [
  {
   "cell_type": "code",
   "execution_count": 58,
   "metadata": {},
   "outputs": [],
   "source": [
    "%reload_ext autoreload\n",
    "%autoreload 2\n",
    "%config InlineBackend.figure_format = 'retina'\n"
   ]
  },
  {
   "cell_type": "code",
   "execution_count": 59,
   "metadata": {},
   "outputs": [],
   "source": [
    "from keras import backend as K\n",
    "from keras.applications.vgg16 import VGG16\n",
    "import tensorflow as tf\n",
    "config = tf.ConfigProto()\n",
    "config.gpu_options.allow_growth=True\n",
    "sess = tf.Session(config=config)\n",
    "K.set_session(sess)"
   ]
  },
  {
   "cell_type": "code",
   "execution_count": 60,
   "metadata": {},
   "outputs": [],
   "source": [
    "from numpy.random import seed\n",
    "seed(1)\n",
    "from tensorflow import set_random_seed\n",
    "set_random_seed(2)"
   ]
  },
  {
   "cell_type": "code",
   "execution_count": 61,
   "metadata": {},
   "outputs": [],
   "source": [
    "import numpy as np\n",
    "import pandas as pd\n",
    "import matplotlib.pyplot as plt\n",
    "from sklearn.model_selection import train_test_split"
   ]
  },
  {
   "cell_type": "markdown",
   "metadata": {},
   "source": [
    "## Keras modules"
   ]
  },
  {
   "cell_type": "code",
   "execution_count": 62,
   "metadata": {},
   "outputs": [],
   "source": [
    "import keras\n",
    "from keras.utils import to_categorical\n",
    "from keras.callbacks import ModelCheckpoint, EarlyStopping\n",
    "from keras.models import Model,Sequential\n",
    "from keras.layers.core import Dense, Flatten, Activation\n",
    "from keras.layers import Conv2D, AveragePooling2D, BatchNormalization, Dropout, MaxPooling2D, Input,Add"
   ]
  },
  {
   "cell_type": "markdown",
   "metadata": {},
   "source": [
    "## Cargo datos"
   ]
  },
  {
   "cell_type": "code",
   "execution_count": 63,
   "metadata": {},
   "outputs": [],
   "source": [
    "from keras.datasets import cifar10\n",
    "((x, y), (x_test,y_test)) = cifar10.load_data()"
   ]
  },
  {
   "cell_type": "code",
   "execution_count": 64,
   "metadata": {},
   "outputs": [],
   "source": [
    "x_train, x_valid, y_train, y_valid = train_test_split(x, y, test_size = 0.1)"
   ]
  },
  {
   "cell_type": "markdown",
   "metadata": {},
   "source": [
    "## Paso a float"
   ]
  },
  {
   "cell_type": "code",
   "execution_count": 65,
   "metadata": {},
   "outputs": [],
   "source": [
    "x_train = x_train.astype('float32')\n",
    "x_valid = x_valid.astype('float32')\n",
    "x_test = x_test.astype('float32')\n",
    "x_train /= 255\n",
    "x_valid /= 255\n",
    "x_test /= 255"
   ]
  },
  {
   "cell_type": "code",
   "execution_count": 66,
   "metadata": {},
   "outputs": [],
   "source": [
    "y_train_categorical = to_categorical(y_train)\n",
    "y_val_categorical = to_categorical(y_valid)"
   ]
  },
  {
   "cell_type": "markdown",
   "metadata": {},
   "source": [
    "## Red neuronal: Transfer learning con VGG16"
   ]
  },
  {
   "cell_type": "code",
   "execution_count": 67,
   "metadata": {},
   "outputs": [],
   "source": [
    "preproc=VGG16(include_top = False, pooling = None, weights=\"imagenet\",input_shape=(32,32,3))"
   ]
  },
  {
   "cell_type": "code",
   "execution_count": 68,
   "metadata": {},
   "outputs": [
    {
     "name": "stdout",
     "output_type": "stream",
     "text": [
      "_________________________________________________________________\n",
      "Layer (type)                 Output Shape              Param #   \n",
      "=================================================================\n",
      "input_5 (InputLayer)         (None, 32, 32, 3)         0         \n",
      "_________________________________________________________________\n",
      "block1_conv1 (Conv2D)        (None, 32, 32, 64)        1792      \n",
      "_________________________________________________________________\n",
      "block1_conv2 (Conv2D)        (None, 32, 32, 64)        36928     \n",
      "_________________________________________________________________\n",
      "block1_pool (MaxPooling2D)   (None, 16, 16, 64)        0         \n",
      "_________________________________________________________________\n",
      "block2_conv1 (Conv2D)        (None, 16, 16, 128)       73856     \n",
      "_________________________________________________________________\n",
      "block2_conv2 (Conv2D)        (None, 16, 16, 128)       147584    \n",
      "_________________________________________________________________\n",
      "block2_pool (MaxPooling2D)   (None, 8, 8, 128)         0         \n",
      "_________________________________________________________________\n",
      "block3_conv1 (Conv2D)        (None, 8, 8, 256)         295168    \n",
      "_________________________________________________________________\n",
      "block3_conv2 (Conv2D)        (None, 8, 8, 256)         590080    \n",
      "_________________________________________________________________\n",
      "block3_conv3 (Conv2D)        (None, 8, 8, 256)         590080    \n",
      "_________________________________________________________________\n",
      "block3_pool (MaxPooling2D)   (None, 4, 4, 256)         0         \n",
      "_________________________________________________________________\n",
      "block4_conv1 (Conv2D)        (None, 4, 4, 512)         1180160   \n",
      "_________________________________________________________________\n",
      "block4_conv2 (Conv2D)        (None, 4, 4, 512)         2359808   \n",
      "_________________________________________________________________\n",
      "block4_conv3 (Conv2D)        (None, 4, 4, 512)         2359808   \n",
      "_________________________________________________________________\n",
      "block4_pool (MaxPooling2D)   (None, 2, 2, 512)         0         \n",
      "_________________________________________________________________\n",
      "block5_conv1 (Conv2D)        (None, 2, 2, 512)         2359808   \n",
      "_________________________________________________________________\n",
      "block5_conv2 (Conv2D)        (None, 2, 2, 512)         2359808   \n",
      "_________________________________________________________________\n",
      "block5_conv3 (Conv2D)        (None, 2, 2, 512)         2359808   \n",
      "_________________________________________________________________\n",
      "block5_pool (MaxPooling2D)   (None, 1, 1, 512)         0         \n",
      "=================================================================\n",
      "Total params: 14,714,688\n",
      "Trainable params: 14,714,688\n",
      "Non-trainable params: 0\n",
      "_________________________________________________________________\n"
     ]
    }
   ],
   "source": [
    "preproc.summary()"
   ]
  },
  {
   "cell_type": "code",
   "execution_count": 69,
   "metadata": {},
   "outputs": [],
   "source": [
    "for layer in preproc.layers:\n",
    "    layer.trainable=False"
   ]
  },
  {
   "cell_type": "code",
   "execution_count": 70,
   "metadata": {},
   "outputs": [],
   "source": [
    "x_pre_train=preproc.predict(x_train)\n",
    "x_pre_valid=preproc.predict(x_valid)"
   ]
  },
  {
   "cell_type": "code",
   "execution_count": 71,
   "metadata": {},
   "outputs": [
    {
     "data": {
      "text/plain": [
       "(1, 1, 512)"
      ]
     },
     "execution_count": 71,
     "metadata": {},
     "output_type": "execute_result"
    }
   ],
   "source": [
    "x_pre_train[0].shape"
   ]
  },
  {
   "cell_type": "code",
   "execution_count": 72,
   "metadata": {},
   "outputs": [
    {
     "name": "stdout",
     "output_type": "stream",
     "text": [
      "_________________________________________________________________\n",
      "Layer (type)                 Output Shape              Param #   \n",
      "=================================================================\n",
      "input_6 (InputLayer)         (None, 1, 1, 512)         0         \n",
      "_________________________________________________________________\n",
      "flatten_3 (Flatten)          (None, 512)               0         \n",
      "_________________________________________________________________\n",
      "dense_7 (Dense)              (None, 256)               131328    \n",
      "_________________________________________________________________\n",
      "dropout_5 (Dropout)          (None, 256)               0         \n",
      "_________________________________________________________________\n",
      "dense_8 (Dense)              (None, 256)               65792     \n",
      "_________________________________________________________________\n",
      "dropout_6 (Dropout)          (None, 256)               0         \n",
      "_________________________________________________________________\n",
      "dense_9 (Dense)              (None, 10)                2570      \n",
      "=================================================================\n",
      "Total params: 199,690\n",
      "Trainable params: 199,690\n",
      "Non-trainable params: 0\n",
      "_________________________________________________________________\n"
     ]
    }
   ],
   "source": [
    "input_preproc=Input(shape=(1,1,512))\n",
    "\n",
    "net=Flatten()(input_preproc)\n",
    "\n",
    "net=Dense(units=256, activation='relu')(net)\n",
    "net=Dropout(0.2)(net)\n",
    "net=Dense(units=256, activation='relu')(net)\n",
    "net=Dropout(0.2)(net)\n",
    "net=Dense(units=10, activation = 'softmax')(net)\n",
    "\n",
    "model=Model(input_preproc,net)\n",
    "\n",
    "model.compile(loss='categorical_crossentropy', optimizer='sgd', metrics=['accuracy'])\n",
    "model.summary()"
   ]
  },
  {
   "cell_type": "code",
   "execution_count": 73,
   "metadata": {},
   "outputs": [],
   "source": [
    "# Callbacks\n",
    "checkpoint_file='checkpoint.cifar10-cnn-TL-VGG16.hdf5'\n",
    "earlystop = EarlyStopping(monitor='val_acc', min_delta=0, patience=5, verbose=2)\n",
    "checkpointer = ModelCheckpoint(monitor=\"val_acc\",filepath=checkpoint_file, verbose=1, save_best_only=True)"
   ]
  },
  {
   "cell_type": "code",
   "execution_count": 74,
   "metadata": {},
   "outputs": [
    {
     "data": {
      "text/plain": [
       "(45000, 32, 32, 3)"
      ]
     },
     "execution_count": 74,
     "metadata": {},
     "output_type": "execute_result"
    }
   ],
   "source": [
    "x_train.shape"
   ]
  },
  {
   "cell_type": "code",
   "execution_count": 75,
   "metadata": {},
   "outputs": [
    {
     "data": {
      "text/plain": [
       "(45000, 10)"
      ]
     },
     "execution_count": 75,
     "metadata": {},
     "output_type": "execute_result"
    }
   ],
   "source": [
    "y_train_categorical.shape"
   ]
  },
  {
   "cell_type": "code",
   "execution_count": 76,
   "metadata": {},
   "outputs": [
    {
     "name": "stdout",
     "output_type": "stream",
     "text": [
      "Train on 45000 samples, validate on 5000 samples\n",
      "Epoch 1/100\n",
      "45000/45000 [==============================] - 1s 32us/step - loss: 1.9860 - acc: 0.2889 - val_loss: 1.6808 - val_acc: 0.4142\n",
      "\n",
      "Epoch 00001: val_acc improved from -inf to 0.41420, saving model to checkpoint.cifar10-cnn-TL-VGG16.hdf5\n",
      "Epoch 2/100\n",
      "45000/45000 [==============================] - 1s 24us/step - loss: 1.6559 - acc: 0.4131 - val_loss: 1.5276 - val_acc: 0.4538\n",
      "\n",
      "Epoch 00002: val_acc improved from 0.41420 to 0.45380, saving model to checkpoint.cifar10-cnn-TL-VGG16.hdf5\n",
      "Epoch 3/100\n",
      "45000/45000 [==============================] - 1s 25us/step - loss: 1.5352 - acc: 0.4594 - val_loss: 1.4274 - val_acc: 0.4958\n",
      "\n",
      "Epoch 00003: val_acc improved from 0.45380 to 0.49580, saving model to checkpoint.cifar10-cnn-TL-VGG16.hdf5\n",
      "Epoch 4/100\n",
      "45000/45000 [==============================] - 1s 25us/step - loss: 1.4713 - acc: 0.4826 - val_loss: 1.3792 - val_acc: 0.5138\n",
      "\n",
      "Epoch 00004: val_acc improved from 0.49580 to 0.51380, saving model to checkpoint.cifar10-cnn-TL-VGG16.hdf5\n",
      "Epoch 5/100\n",
      "45000/45000 [==============================] - 1s 25us/step - loss: 1.4287 - acc: 0.4996 - val_loss: 1.3541 - val_acc: 0.5160\n",
      "\n",
      "Epoch 00005: val_acc improved from 0.51380 to 0.51600, saving model to checkpoint.cifar10-cnn-TL-VGG16.hdf5\n",
      "Epoch 6/100\n",
      "45000/45000 [==============================] - 1s 25us/step - loss: 1.3943 - acc: 0.5082 - val_loss: 1.3269 - val_acc: 0.5334\n",
      "\n",
      "Epoch 00006: val_acc improved from 0.51600 to 0.53340, saving model to checkpoint.cifar10-cnn-TL-VGG16.hdf5\n",
      "Epoch 7/100\n",
      "45000/45000 [==============================] - 1s 23us/step - loss: 1.3673 - acc: 0.5200 - val_loss: 1.3119 - val_acc: 0.5282\n",
      "\n",
      "Epoch 00007: val_acc did not improve from 0.53340\n",
      "Epoch 8/100\n",
      "45000/45000 [==============================] - 1s 23us/step - loss: 1.3461 - acc: 0.5281 - val_loss: 1.2921 - val_acc: 0.5404\n",
      "\n",
      "Epoch 00008: val_acc improved from 0.53340 to 0.54040, saving model to checkpoint.cifar10-cnn-TL-VGG16.hdf5\n",
      "Epoch 9/100\n",
      "45000/45000 [==============================] - 1s 23us/step - loss: 1.3275 - acc: 0.5338 - val_loss: 1.2727 - val_acc: 0.5446\n",
      "\n",
      "Epoch 00009: val_acc improved from 0.54040 to 0.54460, saving model to checkpoint.cifar10-cnn-TL-VGG16.hdf5\n",
      "Epoch 10/100\n",
      "45000/45000 [==============================] - 1s 23us/step - loss: 1.3086 - acc: 0.5406 - val_loss: 1.2959 - val_acc: 0.5382\n",
      "\n",
      "Epoch 00010: val_acc did not improve from 0.54460\n",
      "Epoch 11/100\n",
      "45000/45000 [==============================] - 1s 23us/step - loss: 1.2963 - acc: 0.5426 - val_loss: 1.2356 - val_acc: 0.5580\n",
      "\n",
      "Epoch 00011: val_acc improved from 0.54460 to 0.55800, saving model to checkpoint.cifar10-cnn-TL-VGG16.hdf5\n",
      "Epoch 12/100\n",
      "45000/45000 [==============================] - 1s 24us/step - loss: 1.2832 - acc: 0.5487 - val_loss: 1.2402 - val_acc: 0.5596\n",
      "\n",
      "Epoch 00012: val_acc improved from 0.55800 to 0.55960, saving model to checkpoint.cifar10-cnn-TL-VGG16.hdf5\n",
      "Epoch 13/100\n",
      "45000/45000 [==============================] - 1s 22us/step - loss: 1.2689 - acc: 0.5545 - val_loss: 1.2648 - val_acc: 0.5492\n",
      "\n",
      "Epoch 00013: val_acc did not improve from 0.55960\n",
      "Epoch 14/100\n",
      "45000/45000 [==============================] - 1s 23us/step - loss: 1.2583 - acc: 0.5565 - val_loss: 1.2138 - val_acc: 0.5742\n",
      "\n",
      "Epoch 00014: val_acc improved from 0.55960 to 0.57420, saving model to checkpoint.cifar10-cnn-TL-VGG16.hdf5\n",
      "Epoch 15/100\n",
      "45000/45000 [==============================] - 1s 23us/step - loss: 1.2443 - acc: 0.5604 - val_loss: 1.3200 - val_acc: 0.5308\n",
      "\n",
      "Epoch 00015: val_acc did not improve from 0.57420\n",
      "Epoch 16/100\n",
      "45000/45000 [==============================] - 1s 22us/step - loss: 1.2376 - acc: 0.5662 - val_loss: 1.2519 - val_acc: 0.5564\n",
      "\n",
      "Epoch 00016: val_acc did not improve from 0.57420\n",
      "Epoch 17/100\n",
      "45000/45000 [==============================] - 1s 23us/step - loss: 1.2308 - acc: 0.5685 - val_loss: 1.2136 - val_acc: 0.5680\n",
      "\n",
      "Epoch 00017: val_acc did not improve from 0.57420\n",
      "Epoch 18/100\n",
      "45000/45000 [==============================] - 1s 23us/step - loss: 1.2212 - acc: 0.5721 - val_loss: 1.1941 - val_acc: 0.5754\n",
      "\n",
      "Epoch 00018: val_acc improved from 0.57420 to 0.57540, saving model to checkpoint.cifar10-cnn-TL-VGG16.hdf5\n",
      "Epoch 19/100\n",
      "45000/45000 [==============================] - 1s 22us/step - loss: 1.2129 - acc: 0.5745 - val_loss: 1.2565 - val_acc: 0.5558\n",
      "\n",
      "Epoch 00019: val_acc did not improve from 0.57540\n",
      "Epoch 20/100\n",
      "45000/45000 [==============================] - 1s 22us/step - loss: 1.2028 - acc: 0.5779 - val_loss: 1.1949 - val_acc: 0.5754\n",
      "\n",
      "Epoch 00020: val_acc did not improve from 0.57540\n",
      "Epoch 21/100\n",
      "45000/45000 [==============================] - 1s 22us/step - loss: 1.1981 - acc: 0.5804 - val_loss: 1.2202 - val_acc: 0.5690\n",
      "\n",
      "Epoch 00021: val_acc did not improve from 0.57540\n",
      "Epoch 22/100\n",
      "45000/45000 [==============================] - 1s 22us/step - loss: 1.1902 - acc: 0.5824 - val_loss: 1.1748 - val_acc: 0.5908\n",
      "\n",
      "Epoch 00022: val_acc improved from 0.57540 to 0.59080, saving model to checkpoint.cifar10-cnn-TL-VGG16.hdf5\n",
      "Epoch 23/100\n",
      "45000/45000 [==============================] - 1s 27us/step - loss: 1.1879 - acc: 0.5859 - val_loss: 1.3273 - val_acc: 0.5376\n",
      "\n",
      "Epoch 00023: val_acc did not improve from 0.59080\n",
      "Epoch 24/100\n",
      "45000/45000 [==============================] - 1s 27us/step - loss: 1.1756 - acc: 0.5878 - val_loss: 1.1723 - val_acc: 0.5912\n",
      "\n",
      "Epoch 00024: val_acc improved from 0.59080 to 0.59120, saving model to checkpoint.cifar10-cnn-TL-VGG16.hdf5\n",
      "Epoch 25/100\n",
      "45000/45000 [==============================] - 1s 26us/step - loss: 1.1713 - acc: 0.5897 - val_loss: 1.2006 - val_acc: 0.5804\n",
      "\n",
      "Epoch 00025: val_acc did not improve from 0.59120\n",
      "Epoch 26/100\n",
      "45000/45000 [==============================] - 1s 24us/step - loss: 1.1659 - acc: 0.5922 - val_loss: 1.1620 - val_acc: 0.5922\n",
      "\n",
      "Epoch 00026: val_acc improved from 0.59120 to 0.59220, saving model to checkpoint.cifar10-cnn-TL-VGG16.hdf5\n",
      "Epoch 27/100\n",
      "45000/45000 [==============================] - 1s 23us/step - loss: 1.1623 - acc: 0.5927 - val_loss: 1.1502 - val_acc: 0.5994\n",
      "\n",
      "Epoch 00027: val_acc improved from 0.59220 to 0.59940, saving model to checkpoint.cifar10-cnn-TL-VGG16.hdf5\n",
      "Epoch 28/100\n",
      "45000/45000 [==============================] - 1s 25us/step - loss: 1.1539 - acc: 0.5973 - val_loss: 1.2649 - val_acc: 0.5662\n",
      "\n",
      "Epoch 00028: val_acc did not improve from 0.59940\n",
      "Epoch 29/100\n",
      "45000/45000 [==============================] - 1s 25us/step - loss: 1.1517 - acc: 0.5951 - val_loss: 1.2494 - val_acc: 0.5522\n",
      "\n",
      "Epoch 00029: val_acc did not improve from 0.59940\n",
      "Epoch 30/100\n",
      "45000/45000 [==============================] - 1s 25us/step - loss: 1.1486 - acc: 0.5994 - val_loss: 1.1591 - val_acc: 0.5898\n",
      "\n",
      "Epoch 00030: val_acc did not improve from 0.59940\n",
      "Epoch 31/100\n",
      "45000/45000 [==============================] - 1s 27us/step - loss: 1.1421 - acc: 0.5986 - val_loss: 1.1369 - val_acc: 0.5960\n",
      "\n",
      "Epoch 00031: val_acc did not improve from 0.59940\n",
      "Epoch 32/100\n",
      "45000/45000 [==============================] - 1s 23us/step - loss: 1.1369 - acc: 0.6032 - val_loss: 1.2114 - val_acc: 0.5664\n",
      "\n",
      "Epoch 00032: val_acc did not improve from 0.59940\n",
      "Epoch 00032: early stopping\n"
     ]
    }
   ],
   "source": [
    "batch_size = 64\n",
    "epocs = 100\n",
    "\n",
    "history = model.fit(x_pre_train, \n",
    "        y_train_categorical,\n",
    "        epochs=epocs, batch_size=batch_size, \n",
    "        verbose=1, \n",
    "        validation_data = (x_pre_valid, y_val_categorical),\n",
    "        callbacks=[checkpointer, earlystop],\n",
    "    )"
   ]
  },
  {
   "cell_type": "code",
   "execution_count": 77,
   "metadata": {},
   "outputs": [
    {
     "data": {
      "image/png": "[encoded data removed]",
      "text/plain": [
       "<Figure size 1296x360 with 2 Axes>"
      ]
     },
     "metadata": {
      "image/png": {
       "height": 304,
       "width": 1043
      },
      "needs_background": "light"
     },
     "output_type": "display_data"
    }
   ],
   "source": [
    "f, (ax1, ax2) = plt.subplots(1, 2, sharex=True, figsize=(18,5))\n",
    "ax1.plot(history.history['loss'], label=\"loss\")\n",
    "ax1.plot(history.history['val_loss'], label=\"val_loss\")\n",
    "ax1.legend()\n",
    "\n",
    "ax2.plot(history.history['acc'], label=\"acc\")\n",
    "ax2.plot(history.history['val_acc'], label=\"val_acc\")\n",
    "ax2.legend()\n",
    "plt.show();"
   ]
  },
  {
   "cell_type": "code",
   "execution_count": 78,
   "metadata": {},
   "outputs": [],
   "source": [
    "model.load_weights('checkpoint.cifar10-cnn-TL-VGG16.hdf5')"
   ]
  },
  {
   "cell_type": "code",
   "execution_count": 79,
   "metadata": {},
   "outputs": [
    {
     "name": "stdout",
     "output_type": "stream",
     "text": [
      "_________________________________________________________________\n",
      "Layer (type)                 Output Shape              Param #   \n",
      "=================================================================\n",
      "input_5 (InputLayer)         (None, 32, 32, 3)         0         \n",
      "_________________________________________________________________\n",
      "block1_conv1 (Conv2D)        (None, 32, 32, 64)        1792      \n",
      "_________________________________________________________________\n",
      "block1_conv2 (Conv2D)        (None, 32, 32, 64)        36928     \n",
      "_________________________________________________________________\n",
      "block1_pool (MaxPooling2D)   (None, 16, 16, 64)        0         \n",
      "_________________________________________________________________\n",
      "block2_conv1 (Conv2D)        (None, 16, 16, 128)       73856     \n",
      "_________________________________________________________________\n",
      "block2_conv2 (Conv2D)        (None, 16, 16, 128)       147584    \n",
      "_________________________________________________________________\n",
      "block2_pool (MaxPooling2D)   (None, 8, 8, 128)         0         \n",
      "_________________________________________________________________\n",
      "block3_conv1 (Conv2D)        (None, 8, 8, 256)         295168    \n",
      "_________________________________________________________________\n",
      "block3_conv2 (Conv2D)        (None, 8, 8, 256)         590080    \n",
      "_________________________________________________________________\n",
      "block3_conv3 (Conv2D)        (None, 8, 8, 256)         590080    \n",
      "_________________________________________________________________\n",
      "block3_pool (MaxPooling2D)   (None, 4, 4, 256)         0         \n",
      "_________________________________________________________________\n",
      "block4_conv1 (Conv2D)        (None, 4, 4, 512)         1180160   \n",
      "_________________________________________________________________\n",
      "block4_conv2 (Conv2D)        (None, 4, 4, 512)         2359808   \n",
      "_________________________________________________________________\n",
      "block4_conv3 (Conv2D)        (None, 4, 4, 512)         2359808   \n",
      "_________________________________________________________________\n",
      "block4_pool (MaxPooling2D)   (None, 2, 2, 512)         0         \n",
      "_________________________________________________________________\n",
      "block5_conv1 (Conv2D)        (None, 2, 2, 512)         2359808   \n",
      "_________________________________________________________________\n",
      "block5_conv2 (Conv2D)        (None, 2, 2, 512)         2359808   \n",
      "_________________________________________________________________\n",
      "block5_conv3 (Conv2D)        (None, 2, 2, 512)         2359808   \n",
      "_________________________________________________________________\n",
      "block5_pool (MaxPooling2D)   (None, 1, 1, 512)         0         \n",
      "_________________________________________________________________\n",
      "model_6 (Model)              (None, 10)                199690    \n",
      "=================================================================\n",
      "Total params: 14,914,378\n",
      "Trainable params: 199,690\n",
      "Non-trainable params: 14,714,688\n",
      "_________________________________________________________________\n"
     ]
    }
   ],
   "source": [
    "total_model_output=model(preproc.output)\n",
    "total_model=Model(preproc.input,total_model_output)\n",
    "total_model.summary()"
   ]
  },
  {
   "cell_type": "code",
   "execution_count": 80,
   "metadata": {},
   "outputs": [
    {
     "name": "stdout",
     "output_type": "stream",
     "text": [
      "_________________________________________________________________\n",
      "Layer (type)                 Output Shape              Param #   \n",
      "=================================================================\n",
      "input_5 (InputLayer)         (None, 32, 32, 3)         0         \n",
      "_________________________________________________________________\n",
      "block1_conv1 (Conv2D)        (None, 32, 32, 64)        1792      \n",
      "_________________________________________________________________\n",
      "block1_conv2 (Conv2D)        (None, 32, 32, 64)        36928     \n",
      "_________________________________________________________________\n",
      "block1_pool (MaxPooling2D)   (None, 16, 16, 64)        0         \n",
      "_________________________________________________________________\n",
      "block2_conv1 (Conv2D)        (None, 16, 16, 128)       73856     \n",
      "_________________________________________________________________\n",
      "block2_conv2 (Conv2D)        (None, 16, 16, 128)       147584    \n",
      "_________________________________________________________________\n",
      "block2_pool (MaxPooling2D)   (None, 8, 8, 128)         0         \n",
      "_________________________________________________________________\n",
      "block3_conv1 (Conv2D)        (None, 8, 8, 256)         295168    \n",
      "_________________________________________________________________\n",
      "block3_conv2 (Conv2D)        (None, 8, 8, 256)         590080    \n",
      "_________________________________________________________________\n",
      "block3_conv3 (Conv2D)        (None, 8, 8, 256)         590080    \n",
      "_________________________________________________________________\n",
      "block3_pool (MaxPooling2D)   (None, 4, 4, 256)         0         \n",
      "_________________________________________________________________\n",
      "block4_conv1 (Conv2D)        (None, 4, 4, 512)         1180160   \n",
      "_________________________________________________________________\n",
      "block4_conv2 (Conv2D)        (None, 4, 4, 512)         2359808   \n",
      "_________________________________________________________________\n",
      "block4_conv3 (Conv2D)        (None, 4, 4, 512)         2359808   \n",
      "_________________________________________________________________\n",
      "block4_pool (MaxPooling2D)   (None, 2, 2, 512)         0         \n",
      "_________________________________________________________________\n",
      "block5_conv1 (Conv2D)        (None, 2, 2, 512)         2359808   \n",
      "_________________________________________________________________\n",
      "block5_conv2 (Conv2D)        (None, 2, 2, 512)         2359808   \n",
      "_________________________________________________________________\n",
      "block5_conv3 (Conv2D)        (None, 2, 2, 512)         2359808   \n",
      "_________________________________________________________________\n",
      "block5_pool (MaxPooling2D)   (None, 1, 1, 512)         0         \n",
      "_________________________________________________________________\n",
      "model_6 (Model)              (None, 10)                199690    \n",
      "=================================================================\n",
      "Total params: 14,914,378\n",
      "Trainable params: 14,914,378\n",
      "Non-trainable params: 0\n",
      "_________________________________________________________________\n"
     ]
    }
   ],
   "source": [
    "for layer in preproc.layers:\n",
    "    layer.trainable=True\n",
    "total_model.summary()"
   ]
  },
  {
   "cell_type": "code",
   "execution_count": 81,
   "metadata": {},
   "outputs": [],
   "source": [
    "total_model.compile(loss='categorical_crossentropy', optimizer='sgd', metrics=['accuracy'])\n",
    "# Callbacks\n",
    "checkpoint_file='checkpoint.cifar10-cnn-TL-VGG16_fine_tunning.hdf5'\n",
    "earlystop = EarlyStopping(monitor='val_acc', min_delta=0, patience=5, verbose=2)\n",
    "checkpointer = ModelCheckpoint(monitor=\"val_acc\",filepath=checkpoint_file, verbose=1, save_best_only=True)"
   ]
  },
  {
   "cell_type": "code",
   "execution_count": 82,
   "metadata": {},
   "outputs": [
    {
     "name": "stdout",
     "output_type": "stream",
     "text": [
      "Train on 45000 samples, validate on 5000 samples\n",
      "Epoch 1/100\n",
      "45000/45000 [==============================] - 18s 398us/step - loss: 1.2997 - acc: 0.5509 - val_loss: 1.1618 - val_acc: 0.5988\n",
      "\n",
      "Epoch 00001: val_acc improved from -inf to 0.59880, saving model to checkpoint.cifar10-cnn-TL-VGG16_fine_tunning.hdf5\n",
      "Epoch 2/100\n",
      "45000/45000 [==============================] - 17s 382us/step - loss: 0.6904 - acc: 0.7665 - val_loss: 2.4028 - val_acc: 0.4134\n",
      "\n",
      "Epoch 00002: val_acc did not improve from 0.59880\n",
      "Epoch 3/100\n",
      "45000/45000 [==============================] - 17s 387us/step - loss: 0.5357 - acc: 0.8188 - val_loss: 0.7492 - val_acc: 0.7570\n",
      "\n",
      "Epoch 00003: val_acc improved from 0.59880 to 0.75700, saving model to checkpoint.cifar10-cnn-TL-VGG16_fine_tunning.hdf5\n",
      "Epoch 4/100\n",
      "45000/45000 [==============================] - 17s 385us/step - loss: 0.4323 - acc: 0.8538 - val_loss: 0.4778 - val_acc: 0.8402\n",
      "\n",
      "Epoch 00004: val_acc improved from 0.75700 to 0.84020, saving model to checkpoint.cifar10-cnn-TL-VGG16_fine_tunning.hdf5\n",
      "Epoch 5/100\n",
      "45000/45000 [==============================] - 17s 388us/step - loss: 0.3552 - acc: 0.8788 - val_loss: 0.4601 - val_acc: 0.8430\n",
      "\n",
      "Epoch 00005: val_acc improved from 0.84020 to 0.84300, saving model to checkpoint.cifar10-cnn-TL-VGG16_fine_tunning.hdf5\n",
      "Epoch 6/100\n",
      "45000/45000 [==============================] - 17s 385us/step - loss: 0.2904 - acc: 0.9016 - val_loss: 0.5350 - val_acc: 0.8358\n",
      "\n",
      "Epoch 00006: val_acc did not improve from 0.84300\n",
      "Epoch 7/100\n",
      "45000/45000 [==============================] - 17s 389us/step - loss: 0.2340 - acc: 0.9208 - val_loss: 0.6701 - val_acc: 0.8028\n",
      "\n",
      "Epoch 00007: val_acc did not improve from 0.84300\n",
      "Epoch 8/100\n",
      "45000/45000 [==============================] - 18s 389us/step - loss: 0.1879 - acc: 0.9367 - val_loss: 0.4733 - val_acc: 0.8534\n",
      "\n",
      "Epoch 00008: val_acc improved from 0.84300 to 0.85340, saving model to checkpoint.cifar10-cnn-TL-VGG16_fine_tunning.hdf5\n",
      "Epoch 9/100\n",
      "45000/45000 [==============================] - 17s 388us/step - loss: 0.1398 - acc: 0.9526 - val_loss: 0.5083 - val_acc: 0.8512\n",
      "\n",
      "Epoch 00009: val_acc did not improve from 0.85340\n",
      "Epoch 10/100\n",
      "45000/45000 [==============================] - 18s 389us/step - loss: 0.1121 - acc: 0.9636 - val_loss: 0.6268 - val_acc: 0.8318\n",
      "\n",
      "Epoch 00010: val_acc did not improve from 0.85340\n",
      "Epoch 11/100\n",
      "45000/45000 [==============================] - 18s 389us/step - loss: 0.0865 - acc: 0.9723 - val_loss: 0.5432 - val_acc: 0.8602\n",
      "\n",
      "Epoch 00011: val_acc improved from 0.85340 to 0.86020, saving model to checkpoint.cifar10-cnn-TL-VGG16_fine_tunning.hdf5\n",
      "Epoch 12/100\n",
      "45000/45000 [==============================] - 17s 388us/step - loss: 0.0648 - acc: 0.9792 - val_loss: 4.1915 - val_acc: 0.4884\n",
      "\n",
      "Epoch 00012: val_acc did not improve from 0.86020\n",
      "Epoch 13/100\n",
      "45000/45000 [==============================] - 18s 392us/step - loss: 0.1790 - acc: 0.9579 - val_loss: 0.5668 - val_acc: 0.8602\n",
      "\n",
      "Epoch 00013: val_acc did not improve from 0.86020\n",
      "Epoch 14/100\n",
      "45000/45000 [==============================] - 18s 390us/step - loss: 0.0441 - acc: 0.9861 - val_loss: 0.5989 - val_acc: 0.8654\n",
      "\n",
      "Epoch 00014: val_acc improved from 0.86020 to 0.86540, saving model to checkpoint.cifar10-cnn-TL-VGG16_fine_tunning.hdf5\n",
      "Epoch 15/100\n",
      "45000/45000 [==============================] - 18s 395us/step - loss: 0.0331 - acc: 0.9904 - val_loss: 0.6061 - val_acc: 0.8646\n",
      "\n",
      "Epoch 00015: val_acc did not improve from 0.86540\n",
      "Epoch 16/100\n",
      "45000/45000 [==============================] - 18s 396us/step - loss: 0.0272 - acc: 0.9920 - val_loss: 0.6051 - val_acc: 0.8642\n",
      "\n",
      "Epoch 00016: val_acc did not improve from 0.86540\n",
      "Epoch 17/100\n",
      "45000/45000 [==============================] - 18s 396us/step - loss: 0.0349 - acc: 0.9908 - val_loss: 0.5991 - val_acc: 0.8660\n",
      "\n",
      "Epoch 00017: val_acc improved from 0.86540 to 0.86600, saving model to checkpoint.cifar10-cnn-TL-VGG16_fine_tunning.hdf5\n",
      "Epoch 18/100\n",
      "45000/45000 [==============================] - 17s 388us/step - loss: 0.0065 - acc: 0.9985 - val_loss: 0.6244 - val_acc: 0.8736\n",
      "\n",
      "Epoch 00018: val_acc improved from 0.86600 to 0.87360, saving model to checkpoint.cifar10-cnn-TL-VGG16_fine_tunning.hdf5\n",
      "Epoch 19/100\n",
      "45000/45000 [==============================] - 18s 391us/step - loss: 0.0327 - acc: 0.9942 - val_loss: 0.5539 - val_acc: 0.8504\n",
      "\n",
      "Epoch 00019: val_acc did not improve from 0.87360\n",
      "Epoch 20/100\n",
      "45000/45000 [==============================] - 18s 392us/step - loss: 0.0164 - acc: 0.9957 - val_loss: 0.6591 - val_acc: 0.8654\n",
      "\n",
      "Epoch 00020: val_acc did not improve from 0.87360\n",
      "Epoch 21/100\n",
      "45000/45000 [==============================] - 18s 394us/step - loss: 0.0052 - acc: 0.9988 - val_loss: 0.6546 - val_acc: 0.8694\n",
      "\n",
      "Epoch 00021: val_acc did not improve from 0.87360\n",
      "Epoch 22/100\n",
      "45000/45000 [==============================] - 18s 394us/step - loss: 0.0020 - acc: 0.9997 - val_loss: 0.6634 - val_acc: 0.8744\n",
      "\n",
      "Epoch 00022: val_acc improved from 0.87360 to 0.87440, saving model to checkpoint.cifar10-cnn-TL-VGG16_fine_tunning.hdf5\n",
      "Epoch 23/100\n",
      "45000/45000 [==============================] - 18s 392us/step - loss: 5.4294e-04 - acc: 1.0000 - val_loss: 0.6849 - val_acc: 0.8738\n",
      "\n",
      "Epoch 00023: val_acc did not improve from 0.87440\n",
      "Epoch 24/100\n",
      "45000/45000 [==============================] - 18s 394us/step - loss: 3.9031e-04 - acc: 1.0000 - val_loss: 0.7019 - val_acc: 0.8726\n",
      "\n",
      "Epoch 00024: val_acc did not improve from 0.87440\n",
      "Epoch 25/100\n",
      "45000/45000 [==============================] - 18s 393us/step - loss: 2.8815e-04 - acc: 1.0000 - val_loss: 0.7168 - val_acc: 0.8732\n",
      "\n",
      "Epoch 00025: val_acc did not improve from 0.87440\n",
      "Epoch 26/100\n",
      "45000/45000 [==============================] - 18s 396us/step - loss: 2.5745e-04 - acc: 1.0000 - val_loss: 0.7301 - val_acc: 0.8750\n",
      "\n",
      "Epoch 00026: val_acc improved from 0.87440 to 0.87500, saving model to checkpoint.cifar10-cnn-TL-VGG16_fine_tunning.hdf5\n",
      "Epoch 27/100\n",
      "45000/45000 [==============================] - 18s 394us/step - loss: 2.3247e-04 - acc: 1.0000 - val_loss: 0.7355 - val_acc: 0.8736\n",
      "\n",
      "Epoch 00027: val_acc did not improve from 0.87500\n",
      "Epoch 28/100\n",
      "45000/45000 [==============================] - 18s 396us/step - loss: 2.0943e-04 - acc: 1.0000 - val_loss: 0.7461 - val_acc: 0.8748\n",
      "\n",
      "Epoch 00028: val_acc did not improve from 0.87500\n",
      "Epoch 29/100\n",
      "45000/45000 [==============================] - 18s 394us/step - loss: 2.4824e-04 - acc: 1.0000 - val_loss: 0.7572 - val_acc: 0.8756\n",
      "\n",
      "Epoch 00029: val_acc improved from 0.87500 to 0.87560, saving model to checkpoint.cifar10-cnn-TL-VGG16_fine_tunning.hdf5\n",
      "Epoch 30/100\n",
      "45000/45000 [==============================] - 18s 393us/step - loss: 2.1044e-04 - acc: 1.0000 - val_loss: 0.7647 - val_acc: 0.8736\n",
      "\n",
      "Epoch 00030: val_acc did not improve from 0.87560\n",
      "Epoch 31/100\n",
      "45000/45000 [==============================] - 18s 394us/step - loss: 1.4678e-04 - acc: 1.0000 - val_loss: 0.7704 - val_acc: 0.8736\n",
      "\n",
      "Epoch 00031: val_acc did not improve from 0.87560\n",
      "Epoch 32/100\n",
      "45000/45000 [==============================] - 18s 396us/step - loss: 1.4212e-04 - acc: 1.0000 - val_loss: 0.7754 - val_acc: 0.8734\n",
      "\n",
      "Epoch 00032: val_acc did not improve from 0.87560\n",
      "Epoch 33/100\n",
      "45000/45000 [==============================] - 18s 395us/step - loss: 1.5529e-04 - acc: 1.0000 - val_loss: 0.7824 - val_acc: 0.8734\n",
      "\n",
      "Epoch 00033: val_acc did not improve from 0.87560\n",
      "Epoch 34/100\n",
      "45000/45000 [==============================] - 18s 393us/step - loss: 1.0439e-04 - acc: 1.0000 - val_loss: 0.7868 - val_acc: 0.8730\n",
      "\n",
      "Epoch 00034: val_acc did not improve from 0.87560\n",
      "Epoch 00034: early stopping\n"
     ]
    }
   ],
   "source": [
    "batch_size = 64\n",
    "epocs = 100\n",
    "\n",
    "history = total_model.fit(x_train, \n",
    "        y_train_categorical,\n",
    "        epochs=epocs, batch_size=batch_size, \n",
    "        verbose=1, \n",
    "        validation_data = (x_valid, y_val_categorical),\n",
    "        callbacks=[checkpointer, earlystop],\n",
    "    )"
   ]
  },
  {
   "cell_type": "code",
   "execution_count": null,
   "metadata": {},
   "outputs": [],
   "source": []
  }
 ],
 "metadata": {
  "kernelspec": {
   "display_name": "Python (tensorflow-gpu)",
   "language": "python",
   "name": "tensorflow-gpu"
  },
  "language_info": {
   "codemirror_mode": {
    "name": "ipython",
    "version": 3
   },
   "file_extension": ".py",
   "mimetype": "text/x-python",
   "name": "python",
   "nbconvert_exporter": "python",
   "pygments_lexer": "ipython3",
   "version": "3.6.8"
  }
 },
 "nbformat": 4,
 "nbformat_minor": 4
}
