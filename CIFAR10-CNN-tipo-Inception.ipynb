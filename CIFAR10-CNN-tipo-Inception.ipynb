{
 "cells": [
  {
   "cell_type": "code",
   "execution_count": 1,
   "metadata": {},
   "outputs": [],
   "source": [
    "%reload_ext autoreload\n",
    "%autoreload 2\n",
    "%config InlineBackend.figure_format = 'retina'\n"
   ]
  },
  {
   "cell_type": "code",
   "execution_count": 2,
   "metadata": {},
   "outputs": [
    {
     "name": "stderr",
     "output_type": "stream",
     "text": [
      "Using TensorFlow backend.\n"
     ]
    }
   ],
   "source": [
    "from keras import backend as K\n",
    "import tensorflow as tf\n",
    "config = tf.ConfigProto()\n",
    "config.gpu_options.allow_growth=True\n",
    "sess = tf.Session(config=config)\n",
    "K.set_session(sess)"
   ]
  },
  {
   "cell_type": "code",
   "execution_count": 3,
   "metadata": {},
   "outputs": [],
   "source": [
    "from numpy.random import seed\n",
    "seed(1)\n",
    "from tensorflow import set_random_seed\n",
    "set_random_seed(2)"
   ]
  },
  {
   "cell_type": "code",
   "execution_count": 4,
   "metadata": {},
   "outputs": [],
   "source": [
    "import numpy as np\n",
    "import pandas as pd\n",
    "import matplotlib.pyplot as plt\n",
    "from sklearn.model_selection import train_test_split"
   ]
  },
  {
   "cell_type": "markdown",
   "metadata": {},
   "source": [
    "## Keras modules"
   ]
  },
  {
   "cell_type": "code",
   "execution_count": 11,
   "metadata": {},
   "outputs": [],
   "source": [
    "import keras\n",
    "from keras.utils import to_categorical\n",
    "from keras.callbacks import ModelCheckpoint, EarlyStopping\n",
    "from keras.models import Model\n",
    "from keras.layers.core import Dense, Flatten, Activation\n",
    "from keras.layers import Conv2D, AveragePooling2D, BatchNormalization, Dropout, MaxPooling2D, Input,Add"
   ]
  },
  {
   "cell_type": "markdown",
   "metadata": {},
   "source": [
    "## Cargo datos"
   ]
  },
  {
   "cell_type": "code",
   "execution_count": 12,
   "metadata": {},
   "outputs": [],
   "source": [
    "from keras.datasets import cifar10\n",
    "((x, y), (x_test,y_test)) = cifar10.load_data()"
   ]
  },
  {
   "cell_type": "code",
   "execution_count": 13,
   "metadata": {},
   "outputs": [],
   "source": [
    "x_train, x_valid, y_train, y_valid = train_test_split(x, y, test_size = 0.1)"
   ]
  },
  {
   "cell_type": "markdown",
   "metadata": {},
   "source": [
    "## Paso a float"
   ]
  },
  {
   "cell_type": "code",
   "execution_count": 14,
   "metadata": {},
   "outputs": [],
   "source": [
    "x_train = x_train.astype('float32')\n",
    "x_valid = x_valid.astype('float32')\n",
    "x_test = x_test.astype('float32')\n",
    "x_train /= 255\n",
    "x_valid /= 255\n",
    "x_test /= 255"
   ]
  },
  {
   "cell_type": "code",
   "execution_count": 15,
   "metadata": {},
   "outputs": [],
   "source": [
    "y_train_categorical = to_categorical(y_train)\n",
    "y_val_categorical = to_categorical(y_valid)"
   ]
  },
  {
   "cell_type": "markdown",
   "metadata": {},
   "source": [
    "## Red neuronal: CNN tipo Inception"
   ]
  },
  {
   "cell_type": "code",
   "execution_count": 75,
   "metadata": {},
   "outputs": [
    {
     "name": "stdout",
     "output_type": "stream",
     "text": [
      "__________________________________________________________________________________________________\n",
      "Layer (type)                    Output Shape         Param #     Connected to                     \n",
      "==================================================================================================\n",
      "input_16 (InputLayer)           (None, 32, 32, 3)    0                                            \n",
      "__________________________________________________________________________________________________\n",
      "conv2d_321 (Conv2D)             (None, 32, 32, 4)    16          input_16[0][0]                   \n",
      "__________________________________________________________________________________________________\n",
      "conv2d_323 (Conv2D)             (None, 32, 32, 4)    16          input_16[0][0]                   \n",
      "__________________________________________________________________________________________________\n",
      "max_pooling2d_65 (MaxPooling2D) (None, 32, 32, 3)    0           input_16[0][0]                   \n",
      "__________________________________________________________________________________________________\n",
      "conv2d_322 (Conv2D)             (None, 32, 32, 4)    148         conv2d_321[0][0]                 \n",
      "__________________________________________________________________________________________________\n",
      "conv2d_324 (Conv2D)             (None, 32, 32, 64)   6464        conv2d_323[0][0]                 \n",
      "__________________________________________________________________________________________________\n",
      "conv2d_325 (Conv2D)             (None, 32, 32, 4)    16          max_pooling2d_65[0][0]           \n",
      "__________________________________________________________________________________________________\n",
      "concatenate_64 (Concatenate)    (None, 32, 32, 72)   0           conv2d_322[0][0]                 \n",
      "                                                                 conv2d_324[0][0]                 \n",
      "                                                                 conv2d_325[0][0]                 \n",
      "__________________________________________________________________________________________________\n",
      "conv2d_326 (Conv2D)             (None, 32, 32, 4)    292         concatenate_64[0][0]             \n",
      "__________________________________________________________________________________________________\n",
      "conv2d_328 (Conv2D)             (None, 32, 32, 4)    292         concatenate_64[0][0]             \n",
      "__________________________________________________________________________________________________\n",
      "max_pooling2d_66 (MaxPooling2D) (None, 32, 32, 72)   0           concatenate_64[0][0]             \n",
      "__________________________________________________________________________________________________\n",
      "conv2d_327 (Conv2D)             (None, 32, 32, 4)    148         conv2d_326[0][0]                 \n",
      "__________________________________________________________________________________________________\n",
      "conv2d_329 (Conv2D)             (None, 32, 32, 64)   6464        conv2d_328[0][0]                 \n",
      "__________________________________________________________________________________________________\n",
      "conv2d_330 (Conv2D)             (None, 32, 32, 4)    292         max_pooling2d_66[0][0]           \n",
      "__________________________________________________________________________________________________\n",
      "concatenate_65 (Concatenate)    (None, 32, 32, 72)   0           conv2d_327[0][0]                 \n",
      "                                                                 conv2d_329[0][0]                 \n",
      "                                                                 conv2d_330[0][0]                 \n",
      "__________________________________________________________________________________________________\n",
      "conv2d_331 (Conv2D)             (None, 32, 32, 4)    292         concatenate_65[0][0]             \n",
      "__________________________________________________________________________________________________\n",
      "conv2d_333 (Conv2D)             (None, 32, 32, 4)    292         concatenate_65[0][0]             \n",
      "__________________________________________________________________________________________________\n",
      "max_pooling2d_67 (MaxPooling2D) (None, 32, 32, 72)   0           concatenate_65[0][0]             \n",
      "__________________________________________________________________________________________________\n",
      "conv2d_332 (Conv2D)             (None, 32, 32, 4)    148         conv2d_331[0][0]                 \n",
      "__________________________________________________________________________________________________\n",
      "conv2d_334 (Conv2D)             (None, 32, 32, 64)   6464        conv2d_333[0][0]                 \n",
      "__________________________________________________________________________________________________\n",
      "conv2d_335 (Conv2D)             (None, 32, 32, 4)    292         max_pooling2d_67[0][0]           \n",
      "__________________________________________________________________________________________________\n",
      "concatenate_66 (Concatenate)    (None, 32, 32, 72)   0           conv2d_332[0][0]                 \n",
      "                                                                 conv2d_334[0][0]                 \n",
      "                                                                 conv2d_335[0][0]                 \n",
      "__________________________________________________________________________________________________\n",
      "conv2d_336 (Conv2D)             (None, 32, 32, 4)    292         concatenate_66[0][0]             \n",
      "__________________________________________________________________________________________________\n",
      "conv2d_338 (Conv2D)             (None, 32, 32, 4)    292         concatenate_66[0][0]             \n",
      "__________________________________________________________________________________________________\n",
      "max_pooling2d_68 (MaxPooling2D) (None, 32, 32, 72)   0           concatenate_66[0][0]             \n",
      "__________________________________________________________________________________________________\n",
      "conv2d_337 (Conv2D)             (None, 32, 32, 4)    148         conv2d_336[0][0]                 \n",
      "__________________________________________________________________________________________________\n",
      "conv2d_339 (Conv2D)             (None, 32, 32, 64)   6464        conv2d_338[0][0]                 \n",
      "__________________________________________________________________________________________________\n",
      "conv2d_340 (Conv2D)             (None, 32, 32, 4)    292         max_pooling2d_68[0][0]           \n",
      "__________________________________________________________________________________________________\n",
      "concatenate_67 (Concatenate)    (None, 32, 32, 72)   0           conv2d_337[0][0]                 \n",
      "                                                                 conv2d_339[0][0]                 \n",
      "                                                                 conv2d_340[0][0]                 \n",
      "__________________________________________________________________________________________________\n",
      "conv2d_341 (Conv2D)             (None, 32, 32, 4)    292         concatenate_67[0][0]             \n",
      "__________________________________________________________________________________________________\n",
      "conv2d_343 (Conv2D)             (None, 32, 32, 4)    292         concatenate_67[0][0]             \n",
      "__________________________________________________________________________________________________\n",
      "max_pooling2d_69 (MaxPooling2D) (None, 32, 32, 72)   0           concatenate_67[0][0]             \n",
      "__________________________________________________________________________________________________\n",
      "conv2d_342 (Conv2D)             (None, 32, 32, 4)    148         conv2d_341[0][0]                 \n",
      "__________________________________________________________________________________________________\n",
      "conv2d_344 (Conv2D)             (None, 32, 32, 64)   6464        conv2d_343[0][0]                 \n",
      "__________________________________________________________________________________________________\n",
      "conv2d_345 (Conv2D)             (None, 32, 32, 4)    292         max_pooling2d_69[0][0]           \n",
      "__________________________________________________________________________________________________\n",
      "concatenate_68 (Concatenate)    (None, 32, 32, 72)   0           conv2d_342[0][0]                 \n",
      "                                                                 conv2d_344[0][0]                 \n",
      "                                                                 conv2d_345[0][0]                 \n",
      "__________________________________________________________________________________________________\n",
      "conv2d_346 (Conv2D)             (None, 32, 32, 4)    292         concatenate_68[0][0]             \n",
      "__________________________________________________________________________________________________\n",
      "conv2d_348 (Conv2D)             (None, 32, 32, 4)    292         concatenate_68[0][0]             \n",
      "__________________________________________________________________________________________________\n",
      "max_pooling2d_70 (MaxPooling2D) (None, 32, 32, 72)   0           concatenate_68[0][0]             \n",
      "__________________________________________________________________________________________________\n",
      "conv2d_347 (Conv2D)             (None, 32, 32, 4)    148         conv2d_346[0][0]                 \n",
      "__________________________________________________________________________________________________\n",
      "conv2d_349 (Conv2D)             (None, 32, 32, 64)   6464        conv2d_348[0][0]                 \n",
      "__________________________________________________________________________________________________\n",
      "conv2d_350 (Conv2D)             (None, 32, 32, 4)    292         max_pooling2d_70[0][0]           \n",
      "__________________________________________________________________________________________________\n",
      "concatenate_69 (Concatenate)    (None, 32, 32, 72)   0           conv2d_347[0][0]                 \n",
      "                                                                 conv2d_349[0][0]                 \n",
      "                                                                 conv2d_350[0][0]                 \n",
      "__________________________________________________________________________________________________\n",
      "flatten_15 (Flatten)            (None, 73728)        0           concatenate_69[0][0]             \n",
      "__________________________________________________________________________________________________\n",
      "dense_40 (Dense)                (None, 128)          9437312     flatten_15[0][0]                 \n",
      "__________________________________________________________________________________________________\n",
      "dropout_26 (Dropout)            (None, 128)          0           dense_40[0][0]                   \n",
      "__________________________________________________________________________________________________\n",
      "dense_41 (Dense)                (None, 256)          33024       dropout_26[0][0]                 \n",
      "__________________________________________________________________________________________________\n",
      "dropout_27 (Dropout)            (None, 256)          0           dense_41[0][0]                   \n",
      "__________________________________________________________________________________________________\n",
      "dense_42 (Dense)                (None, 10)           2570        dropout_27[0][0]                 \n",
      "==================================================================================================\n",
      "Total params: 9,517,006\n",
      "Trainable params: 9,517,006\n",
      "Non-trainable params: 0\n",
      "__________________________________________________________________________________________________\n"
     ]
    }
   ],
   "source": [
    "net_input = Input(shape=(32,32,3))\n",
    "\n",
    "def inception_block(input_layer,filters=64):\n",
    "    tower_1 = Conv2D(filters, (1,1), padding='same', activation='relu')(input_layer)\n",
    "    tower_1 = Conv2D(filters, (3,3), padding='same', activation='relu')(tower_1)\n",
    "    tower_2 = Conv2D(filters, (1,1), padding='same', activation='relu')(input_layer)\n",
    "    tower_2 = Conv2D(64, (5,5), padding='same', activation='relu')(tower_2)\n",
    "    tower_3 = MaxPooling2D((3,3), strides=(1,1), padding='same')(input_layer)\n",
    "    tower_3 = Conv2D(filters, (1,1), padding='same', activation='relu')(tower_3)\n",
    "    output = keras.layers.concatenate([tower_1, tower_2, tower_3], axis = 3)\n",
    "    return output\n",
    "\n",
    "\n",
    "net=inception_block(net_input,filters=4)\n",
    "net=inception_block(net,filters=4)\n",
    "net=inception_block(net,filters=4)\n",
    "net=inception_block(net,filters=4)\n",
    "net=inception_block(net,filters=4)\n",
    "net=inception_block(net,filters=4)\n",
    "\n",
    "net=Flatten()(net)\n",
    "\n",
    "net=Dense(units=128, activation='relu')(net)\n",
    "net=Dropout(0.1)(net)\n",
    "net=Dense(units=256, activation='relu')(net)\n",
    "net=Dropout(0.1)(net)\n",
    "net=Dense(units=10, activation = 'softmax')(net)\n",
    "\n",
    "model=Model(net_input,net)\n",
    "\n",
    "model.compile(loss='categorical_crossentropy', optimizer='Adam', metrics=['accuracy'])\n",
    "model.summary()"
   ]
  },
  {
   "cell_type": "code",
   "execution_count": 76,
   "metadata": {},
   "outputs": [],
   "source": [
    "# Callbacks\n",
    "checkpoint_file='checkpoint.cifar10-cnn-tipo-Inception.hdf5'\n",
    "earlystop = EarlyStopping(monitor='val_acc', min_delta=0, patience=5, verbose=2)\n",
    "checkpointer = ModelCheckpoint(monitor=\"val_acc\",filepath=checkpoint_file, verbose=1, save_best_only=True)"
   ]
  },
  {
   "cell_type": "code",
   "execution_count": 77,
   "metadata": {},
   "outputs": [
    {
     "data": {
      "text/plain": [
       "(45000, 32, 32, 3)"
      ]
     },
     "execution_count": 77,
     "metadata": {},
     "output_type": "execute_result"
    }
   ],
   "source": [
    "x_train.shape"
   ]
  },
  {
   "cell_type": "code",
   "execution_count": 78,
   "metadata": {},
   "outputs": [
    {
     "data": {
      "text/plain": [
       "(45000, 10)"
      ]
     },
     "execution_count": 78,
     "metadata": {},
     "output_type": "execute_result"
    }
   ],
   "source": [
    "y_train_categorical.shape"
   ]
  },
  {
   "cell_type": "code",
   "execution_count": 79,
   "metadata": {},
   "outputs": [
    {
     "name": "stdout",
     "output_type": "stream",
     "text": [
      "Train on 45000 samples, validate on 5000 samples\n",
      "Epoch 1/100\n",
      "45000/45000 [==============================] - 24s 534us/step - loss: 1.7623 - acc: 0.3450 - val_loss: 1.4632 - val_acc: 0.4676\n",
      "\n",
      "Epoch 00001: val_acc improved from -inf to 0.46760, saving model to checkpoint.mnist-cnn-tipo-Inception.hdf5\n",
      "Epoch 2/100\n",
      "45000/45000 [==============================] - 20s 451us/step - loss: 1.3716 - acc: 0.5031 - val_loss: 1.2513 - val_acc: 0.5506\n",
      "\n",
      "Epoch 00002: val_acc improved from 0.46760 to 0.55060, saving model to checkpoint.mnist-cnn-tipo-Inception.hdf5\n",
      "Epoch 3/100\n",
      "45000/45000 [==============================] - 20s 451us/step - loss: 1.1941 - acc: 0.5700 - val_loss: 1.1635 - val_acc: 0.5810\n",
      "\n",
      "Epoch 00003: val_acc improved from 0.55060 to 0.58100, saving model to checkpoint.mnist-cnn-tipo-Inception.hdf5\n",
      "Epoch 4/100\n",
      "45000/45000 [==============================] - 20s 452us/step - loss: 1.0460 - acc: 0.6241 - val_loss: 1.1467 - val_acc: 0.5948\n",
      "\n",
      "Epoch 00004: val_acc improved from 0.58100 to 0.59480, saving model to checkpoint.mnist-cnn-tipo-Inception.hdf5\n",
      "Epoch 5/100\n",
      "45000/45000 [==============================] - 20s 455us/step - loss: 0.8984 - acc: 0.6777 - val_loss: 1.1219 - val_acc: 0.6010\n",
      "\n",
      "Epoch 00005: val_acc improved from 0.59480 to 0.60100, saving model to checkpoint.mnist-cnn-tipo-Inception.hdf5\n",
      "Epoch 6/100\n",
      "45000/45000 [==============================] - 21s 457us/step - loss: 0.7428 - acc: 0.7347 - val_loss: 1.1569 - val_acc: 0.6090\n",
      "\n",
      "Epoch 00006: val_acc improved from 0.60100 to 0.60900, saving model to checkpoint.mnist-cnn-tipo-Inception.hdf5\n",
      "Epoch 7/100\n",
      "45000/45000 [==============================] - 21s 457us/step - loss: 0.5842 - acc: 0.7921 - val_loss: 1.3338 - val_acc: 0.5996\n",
      "\n",
      "Epoch 00007: val_acc did not improve from 0.60900\n",
      "Epoch 8/100\n",
      "45000/45000 [==============================] - 21s 459us/step - loss: 0.4567 - acc: 0.8374 - val_loss: 1.3941 - val_acc: 0.5996\n",
      "\n",
      "Epoch 00008: val_acc did not improve from 0.60900\n",
      "Epoch 9/100\n",
      "45000/45000 [==============================] - 21s 459us/step - loss: 0.3550 - acc: 0.8751 - val_loss: 1.6158 - val_acc: 0.5900\n",
      "\n",
      "Epoch 00009: val_acc did not improve from 0.60900\n",
      "Epoch 10/100\n",
      "45000/45000 [==============================] - 21s 459us/step - loss: 0.2871 - acc: 0.8995 - val_loss: 1.8254 - val_acc: 0.5890\n",
      "\n",
      "Epoch 00010: val_acc did not improve from 0.60900\n",
      "Epoch 11/100\n",
      "45000/45000 [==============================] - 21s 460us/step - loss: 0.2374 - acc: 0.9179 - val_loss: 1.9096 - val_acc: 0.5868\n",
      "\n",
      "Epoch 00011: val_acc did not improve from 0.60900\n",
      "Epoch 00011: early stopping\n"
     ]
    }
   ],
   "source": [
    "batch_size = 64\n",
    "epocs = 100\n",
    "\n",
    "history = model.fit(x_train, \n",
    "        y_train_categorical,\n",
    "        epochs=epocs, batch_size=batch_size, \n",
    "        verbose=1, \n",
    "        validation_data = (x_valid, y_val_categorical),\n",
    "        callbacks=[checkpointer, earlystop],\n",
    "    )"
   ]
  },
  {
   "cell_type": "code",
   "execution_count": null,
   "metadata": {},
   "outputs": [],
   "source": [
    "f, (ax1, ax2) = plt.subplots(1, 2, sharex=True, figsize=(18,5))\n",
    "ax1.plot(history.history['loss'], label=\"loss\")\n",
    "ax1.plot(history.history['val_loss'], label=\"val_loss\")\n",
    "ax1.legend()\n",
    "\n",
    "ax2.plot(history.history['acc'], label=\"acc\")\n",
    "ax2.plot(history.history['val_acc'], label=\"val_acc\")\n",
    "ax2.legend()\n",
    "plt.show();"
   ]
  }
 ],
 "metadata": {
  "kernelspec": {
   "display_name": "Python (tensorflow-gpu)",
   "language": "python",
   "name": "tensorflow-gpu"
  },
  "language_info": {
   "codemirror_mode": {
    "name": "ipython",
    "version": 3
   },
   "file_extension": ".py",
   "mimetype": "text/x-python",
   "name": "python",
   "nbconvert_exporter": "python",
   "pygments_lexer": "ipython3",
   "version": "3.6.8"
  }
 },
 "nbformat": 4,
 "nbformat_minor": 4
}
