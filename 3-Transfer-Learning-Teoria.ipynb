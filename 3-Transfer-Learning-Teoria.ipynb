{
 "cells": [
  {
   "cell_type": "markdown",
   "metadata": {},
   "source": [
    "# Transfer learning\n",
    "Utilizar una red neuronal previamente entrenada y adaptarla para un dataset nuevo y diferente\n",
    "\n",
    "**Dependiendo de:**\n",
    "- El tamaño del nuevo data set\n",
    "- La similitud entre el dataset original y el nuevo\n",
    "\n",
    "**El aproach cambiara. Hay cuatro combinaciones:**\n",
    "- nuevo dataset pequeño y similares\n",
    "- nuevo dataset grande y similares\n",
    "- nuevo dataset pequeño y differentes\n",
    "- nuevo dataset grande y differentes"
   ]
  },
  {
   "cell_type": "markdown",
   "metadata": {},
   "source": [
    "![imgs/02-guide-how-transfer-learning-v3-01.png](imgs/02-guide-how-transfer-learning-v3-01.png)"
   ]
  },
  {
   "cell_type": "markdown",
   "metadata": {},
   "source": [
    "![02-guide-how-transfer-learning-v3-02.png](imgs/02-guide-how-transfer-learning-v3-02.png)"
   ]
  },
  {
   "cell_type": "markdown",
   "metadata": {},
   "source": [
    "- Primer capa detecta bordes \n",
    "- Segunda detecta formas básicas\n",
    "- Tercera detecta features"
   ]
  },
  {
   "cell_type": "markdown",
   "metadata": {},
   "source": [
    "## Nuevo dataset pequeño y similares clases"
   ]
  },
  {
   "cell_type": "markdown",
   "metadata": {},
   "source": [
    "- Quitar ultima capa/s (Salida de ultima etapa convolucional o luego de algunas capas densas)\n",
    "- Agregar capas densas\n",
    "- Congelar todos los pesos de la red y arrancar aleatoriamente los pesos de las capas densas\n",
    "- Entrenar la red para que actualice los pesos de las capas densas\n",
    "- Por que no se actualizan los pesos del resto de la red? (Dataset chico --> Overfitting)"
   ]
  },
  {
   "cell_type": "markdown",
   "metadata": {},
   "source": [
    "![02-guide-how-transfer-learning-v3-04.png](imgs/02-guide-how-transfer-learning-v3-04.png)"
   ]
  },
  {
   "cell_type": "markdown",
   "metadata": {},
   "source": [
    "## Nuevo dataset pequeño y differentes clases"
   ]
  },
  {
   "cell_type": "markdown",
   "metadata": {},
   "source": [
    "- Quitar el final de la red neuronal\n",
    "- Agregar capa densa y ajustar ultima etapa a que se ajuste a la cantidad de clases\n",
    "- Congelar todos los pesos de la red y arrancar aleatoriamente los pesos de las capas densas\n",
    "- Entrenar la red para que actualice los pesos de las capas densas"
   ]
  },
  {
   "cell_type": "markdown",
   "metadata": {},
   "source": [
    "![02-guide-how-transfer-learning-v3-06.png](imgs/02-guide-how-transfer-learning-v3-06.png)"
   ]
  },
  {
   "cell_type": "markdown",
   "metadata": {},
   "source": [
    "## Nuevo dataset grande y similares"
   ]
  },
  {
   "cell_type": "markdown",
   "metadata": {},
   "source": [
    "![02-guide-how-transfer-learning-v3-08.png](imgs/02-guide-how-transfer-learning-v3-08.png)"
   ]
  },
  {
   "cell_type": "markdown",
   "metadata": {},
   "source": [
    "- Ajustar ultima etapa a que se ajuste a la cantidad de clases\n",
    "- Iniciar los pesos de las capas densas aleatoriamente\n",
    "- Inicializar el resto utiliando los pesos pre entrenados\n",
    "- Re-entrenar toda la red"
   ]
  },
  {
   "cell_type": "markdown",
   "metadata": {},
   "source": [
    "# Nuevo dataset grande y differentes"
   ]
  },
  {
   "cell_type": "markdown",
   "metadata": {},
   "source": [
    "![02-guide-how-transfer-learning-v3-10.png](imgs/02-guide-how-transfer-learning-v3-10.png)"
   ]
  },
  {
   "cell_type": "markdown",
   "metadata": {},
   "source": [
    "Igual a caso anterior aunque si no funciona se puede probar de inicializar los pesos de algunas capas convolucionales aleatoriamente"
   ]
  },
  {
   "cell_type": "markdown",
   "metadata": {},
   "source": [
    "## Multi-task learning"
   ]
  },
  {
   "cell_type": "markdown",
   "metadata": {},
   "source": [
    "![multi-task.png](imgs/multi-task.png)"
   ]
  },
  {
   "cell_type": "markdown",
   "metadata": {},
   "source": [
    "- En ejemplo podria ser multilabel learning con sigmoidea en cada salida\n",
    "- Pero podría hacerse una separción no en la ultima capa si no que anterior\n",
    "- Se llama Multi-task por el hecho de estar entrenando varias tareas de detección (normalmente) al mismo tiempo\n",
    "- Opcion: entrenar los modelos por separado\n",
    "- Se podría asumir que las cuatro clases a detectar comparten features\n",
    "- El entrenar todo junto asegura la posibilidad de aprender features comunes en primeras capas\n",
    "- Se demostro que la unica situación en la que puede ser nocivo entrenar todo junto en vez de por separado es si la red es chico -> Usar redes grandes"
   ]
  },
  {
   "cell_type": "markdown",
   "metadata": {},
   "source": [
    "- http://ruder.io/multi-task/\n",
    "- https://arxiv.org/abs/1706.05098"
   ]
  }
 ],
 "metadata": {
  "kernelspec": {
   "display_name": "Python 3",
   "language": "python",
   "name": "python3"
  },
  "language_info": {
   "codemirror_mode": {
    "name": "ipython",
    "version": 3
   },
   "file_extension": ".py",
   "mimetype": "text/x-python",
   "name": "python",
   "nbconvert_exporter": "python",
   "pygments_lexer": "ipython3",
   "version": "3.6.9"
  }
 },
 "nbformat": 4,
 "nbformat_minor": 4
}
